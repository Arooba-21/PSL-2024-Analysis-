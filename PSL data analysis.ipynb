{
 "cells": [
  {
   "cell_type": "code",
   "execution_count": 1,
   "id": "4d735725-10a9-48c2-8720-7ea721655f6f",
   "metadata": {},
   "outputs": [],
   "source": [
    "import pandas as pd"
   ]
  },
  {
   "cell_type": "code",
   "execution_count": 2,
   "id": "e72301c5-1c04-4d4c-b01f-9ae0dcac03fa",
   "metadata": {},
   "outputs": [],
   "source": [
    "df=pd.read_csv(\"D:\\\\PSL_Season_09_dataset.csv\")"
   ]
  },
  {
   "cell_type": "code",
   "execution_count": 3,
   "id": "5052ad89-58e1-4cb9-a1a2-9a2953f4dc04",
   "metadata": {},
   "outputs": [
    {
     "data": {
      "text/html": [
       "<div>\n",
       "<style scoped>\n",
       "    .dataframe tbody tr th:only-of-type {\n",
       "        vertical-align: middle;\n",
       "    }\n",
       "\n",
       "    .dataframe tbody tr th {\n",
       "        vertical-align: top;\n",
       "    }\n",
       "\n",
       "    .dataframe thead th {\n",
       "        text-align: right;\n",
       "    }\n",
       "</style>\n",
       "<table border=\"1\" class=\"dataframe\">\n",
       "  <thead>\n",
       "    <tr style=\"text-align: right;\">\n",
       "      <th></th>\n",
       "      <th>match_id</th>\n",
       "      <th>season</th>\n",
       "      <th>start_date</th>\n",
       "      <th>venue</th>\n",
       "      <th>innings</th>\n",
       "      <th>ball</th>\n",
       "      <th>batting_team</th>\n",
       "      <th>bowling_team</th>\n",
       "      <th>striker</th>\n",
       "      <th>non_striker</th>\n",
       "      <th>...</th>\n",
       "      <th>extras</th>\n",
       "      <th>wides</th>\n",
       "      <th>noballs</th>\n",
       "      <th>byes</th>\n",
       "      <th>legbyes</th>\n",
       "      <th>penalty</th>\n",
       "      <th>wicket_type</th>\n",
       "      <th>player_dismissed</th>\n",
       "      <th>other_wicket_type</th>\n",
       "      <th>other_player_dismissed</th>\n",
       "    </tr>\n",
       "  </thead>\n",
       "  <tbody>\n",
       "    <tr>\n",
       "      <th>0</th>\n",
       "      <td>1416472</td>\n",
       "      <td>2023/24</td>\n",
       "      <td>2024-02-17</td>\n",
       "      <td>Gaddafi Stadium, Lahore</td>\n",
       "      <td>1</td>\n",
       "      <td>1.5</td>\n",
       "      <td>Lahore Qalandars</td>\n",
       "      <td>Islamabad United</td>\n",
       "      <td>Sahibzada Farhan</td>\n",
       "      <td>Fakhar Zaman</td>\n",
       "      <td>...</td>\n",
       "      <td>0</td>\n",
       "      <td>NaN</td>\n",
       "      <td>NaN</td>\n",
       "      <td>NaN</td>\n",
       "      <td>NaN</td>\n",
       "      <td>NaN</td>\n",
       "      <td>NaN</td>\n",
       "      <td>NaN</td>\n",
       "      <td>NaN</td>\n",
       "      <td>NaN</td>\n",
       "    </tr>\n",
       "    <tr>\n",
       "      <th>1</th>\n",
       "      <td>1416472</td>\n",
       "      <td>2023/24</td>\n",
       "      <td>2024-02-17</td>\n",
       "      <td>Gaddafi Stadium, Lahore</td>\n",
       "      <td>1</td>\n",
       "      <td>1.6</td>\n",
       "      <td>Lahore Qalandars</td>\n",
       "      <td>Islamabad United</td>\n",
       "      <td>Sahibzada Farhan</td>\n",
       "      <td>Fakhar Zaman</td>\n",
       "      <td>...</td>\n",
       "      <td>0</td>\n",
       "      <td>NaN</td>\n",
       "      <td>NaN</td>\n",
       "      <td>NaN</td>\n",
       "      <td>NaN</td>\n",
       "      <td>NaN</td>\n",
       "      <td>NaN</td>\n",
       "      <td>NaN</td>\n",
       "      <td>NaN</td>\n",
       "      <td>NaN</td>\n",
       "    </tr>\n",
       "    <tr>\n",
       "      <th>2</th>\n",
       "      <td>1416472</td>\n",
       "      <td>2023/24</td>\n",
       "      <td>2024-02-17</td>\n",
       "      <td>Gaddafi Stadium, Lahore</td>\n",
       "      <td>1</td>\n",
       "      <td>2.1</td>\n",
       "      <td>Lahore Qalandars</td>\n",
       "      <td>Islamabad United</td>\n",
       "      <td>Fakhar Zaman</td>\n",
       "      <td>Sahibzada Farhan</td>\n",
       "      <td>...</td>\n",
       "      <td>5</td>\n",
       "      <td>5.0</td>\n",
       "      <td>NaN</td>\n",
       "      <td>NaN</td>\n",
       "      <td>NaN</td>\n",
       "      <td>NaN</td>\n",
       "      <td>NaN</td>\n",
       "      <td>NaN</td>\n",
       "      <td>NaN</td>\n",
       "      <td>NaN</td>\n",
       "    </tr>\n",
       "    <tr>\n",
       "      <th>3</th>\n",
       "      <td>1416472</td>\n",
       "      <td>2023/24</td>\n",
       "      <td>2024-02-17</td>\n",
       "      <td>Gaddafi Stadium, Lahore</td>\n",
       "      <td>1</td>\n",
       "      <td>2.2</td>\n",
       "      <td>Lahore Qalandars</td>\n",
       "      <td>Islamabad United</td>\n",
       "      <td>Fakhar Zaman</td>\n",
       "      <td>Sahibzada Farhan</td>\n",
       "      <td>...</td>\n",
       "      <td>0</td>\n",
       "      <td>NaN</td>\n",
       "      <td>NaN</td>\n",
       "      <td>NaN</td>\n",
       "      <td>NaN</td>\n",
       "      <td>NaN</td>\n",
       "      <td>NaN</td>\n",
       "      <td>NaN</td>\n",
       "      <td>NaN</td>\n",
       "      <td>NaN</td>\n",
       "    </tr>\n",
       "    <tr>\n",
       "      <th>4</th>\n",
       "      <td>1416472</td>\n",
       "      <td>2023/24</td>\n",
       "      <td>2024-02-17</td>\n",
       "      <td>Gaddafi Stadium, Lahore</td>\n",
       "      <td>1</td>\n",
       "      <td>2.3</td>\n",
       "      <td>Lahore Qalandars</td>\n",
       "      <td>Islamabad United</td>\n",
       "      <td>Sahibzada Farhan</td>\n",
       "      <td>Fakhar Zaman</td>\n",
       "      <td>...</td>\n",
       "      <td>0</td>\n",
       "      <td>NaN</td>\n",
       "      <td>NaN</td>\n",
       "      <td>NaN</td>\n",
       "      <td>NaN</td>\n",
       "      <td>NaN</td>\n",
       "      <td>NaN</td>\n",
       "      <td>NaN</td>\n",
       "      <td>NaN</td>\n",
       "      <td>NaN</td>\n",
       "    </tr>\n",
       "  </tbody>\n",
       "</table>\n",
       "<p>5 rows × 22 columns</p>\n",
       "</div>"
      ],
      "text/plain": [
       "   match_id   season  start_date                    venue  innings  ball  \\\n",
       "0   1416472  2023/24  2024-02-17  Gaddafi Stadium, Lahore        1   1.5   \n",
       "1   1416472  2023/24  2024-02-17  Gaddafi Stadium, Lahore        1   1.6   \n",
       "2   1416472  2023/24  2024-02-17  Gaddafi Stadium, Lahore        1   2.1   \n",
       "3   1416472  2023/24  2024-02-17  Gaddafi Stadium, Lahore        1   2.2   \n",
       "4   1416472  2023/24  2024-02-17  Gaddafi Stadium, Lahore        1   2.3   \n",
       "\n",
       "       batting_team      bowling_team           striker       non_striker  \\\n",
       "0  Lahore Qalandars  Islamabad United  Sahibzada Farhan      Fakhar Zaman   \n",
       "1  Lahore Qalandars  Islamabad United  Sahibzada Farhan      Fakhar Zaman   \n",
       "2  Lahore Qalandars  Islamabad United      Fakhar Zaman  Sahibzada Farhan   \n",
       "3  Lahore Qalandars  Islamabad United      Fakhar Zaman  Sahibzada Farhan   \n",
       "4  Lahore Qalandars  Islamabad United  Sahibzada Farhan      Fakhar Zaman   \n",
       "\n",
       "   ... extras  wides  noballs  byes  legbyes  penalty  wicket_type  \\\n",
       "0  ...      0    NaN      NaN   NaN      NaN      NaN          NaN   \n",
       "1  ...      0    NaN      NaN   NaN      NaN      NaN          NaN   \n",
       "2  ...      5    5.0      NaN   NaN      NaN      NaN          NaN   \n",
       "3  ...      0    NaN      NaN   NaN      NaN      NaN          NaN   \n",
       "4  ...      0    NaN      NaN   NaN      NaN      NaN          NaN   \n",
       "\n",
       "   player_dismissed other_wicket_type other_player_dismissed  \n",
       "0               NaN               NaN                    NaN  \n",
       "1               NaN               NaN                    NaN  \n",
       "2               NaN               NaN                    NaN  \n",
       "3               NaN               NaN                    NaN  \n",
       "4               NaN               NaN                    NaN  \n",
       "\n",
       "[5 rows x 22 columns]"
      ]
     },
     "execution_count": 3,
     "metadata": {},
     "output_type": "execute_result"
    }
   ],
   "source": [
    "df.head()"
   ]
  },
  {
   "cell_type": "code",
   "execution_count": 4,
   "id": "068e3533-5e24-453a-89ff-3ceacbdecbde",
   "metadata": {},
   "outputs": [
    {
     "name": "stdout",
     "output_type": "stream",
     "text": [
      "<class 'pandas.core.frame.DataFrame'>\n",
      "RangeIndex: 7795 entries, 0 to 7794\n",
      "Data columns (total 22 columns):\n",
      " #   Column                  Non-Null Count  Dtype  \n",
      "---  ------                  --------------  -----  \n",
      " 0   match_id                7795 non-null   int64  \n",
      " 1   season                  7795 non-null   object \n",
      " 2   start_date              7795 non-null   object \n",
      " 3   venue                   7795 non-null   object \n",
      " 4   innings                 7795 non-null   int64  \n",
      " 5   ball                    7795 non-null   float64\n",
      " 6   batting_team            7795 non-null   object \n",
      " 7   bowling_team            7795 non-null   object \n",
      " 8   striker                 7795 non-null   object \n",
      " 9   non_striker             7795 non-null   object \n",
      " 10  bowler                  7795 non-null   object \n",
      " 11  runs_off_bat            7795 non-null   int64  \n",
      " 12  extras                  7795 non-null   int64  \n",
      " 13  wides                   288 non-null    float64\n",
      " 14  noballs                 23 non-null     float64\n",
      " 15  byes                    16 non-null     float64\n",
      " 16  legbyes                 136 non-null    float64\n",
      " 17  penalty                 1 non-null      float64\n",
      " 18  wicket_type             403 non-null    object \n",
      " 19  player_dismissed        403 non-null    object \n",
      " 20  other_wicket_type       0 non-null      float64\n",
      " 21  other_player_dismissed  0 non-null      float64\n",
      "dtypes: float64(8), int64(4), object(10)\n",
      "memory usage: 1.3+ MB\n"
     ]
    }
   ],
   "source": [
    "df.info()"
   ]
  },
  {
   "cell_type": "code",
   "execution_count": 5,
   "id": "c530d295-8553-4d75-974e-c093e51383e7",
   "metadata": {},
   "outputs": [
    {
     "data": {
      "text/html": [
       "<div>\n",
       "<style scoped>\n",
       "    .dataframe tbody tr th:only-of-type {\n",
       "        vertical-align: middle;\n",
       "    }\n",
       "\n",
       "    .dataframe tbody tr th {\n",
       "        vertical-align: top;\n",
       "    }\n",
       "\n",
       "    .dataframe thead th {\n",
       "        text-align: right;\n",
       "    }\n",
       "</style>\n",
       "<table border=\"1\" class=\"dataframe\">\n",
       "  <thead>\n",
       "    <tr style=\"text-align: right;\">\n",
       "      <th></th>\n",
       "      <th>match_id</th>\n",
       "      <th>innings</th>\n",
       "      <th>ball</th>\n",
       "      <th>runs_off_bat</th>\n",
       "      <th>extras</th>\n",
       "      <th>wides</th>\n",
       "      <th>noballs</th>\n",
       "      <th>byes</th>\n",
       "      <th>legbyes</th>\n",
       "      <th>penalty</th>\n",
       "      <th>other_wicket_type</th>\n",
       "      <th>other_player_dismissed</th>\n",
       "    </tr>\n",
       "  </thead>\n",
       "  <tbody>\n",
       "    <tr>\n",
       "      <th>count</th>\n",
       "      <td>7.795000e+03</td>\n",
       "      <td>7795.000000</td>\n",
       "      <td>7795.000000</td>\n",
       "      <td>7795.000000</td>\n",
       "      <td>7795.000000</td>\n",
       "      <td>288.000000</td>\n",
       "      <td>23.0</td>\n",
       "      <td>16.000000</td>\n",
       "      <td>136.000000</td>\n",
       "      <td>1.0</td>\n",
       "      <td>0.0</td>\n",
       "      <td>0.0</td>\n",
       "    </tr>\n",
       "    <tr>\n",
       "      <th>mean</th>\n",
       "      <td>1.416488e+06</td>\n",
       "      <td>1.489416</td>\n",
       "      <td>9.695548</td>\n",
       "      <td>1.322001</td>\n",
       "      <td>0.075690</td>\n",
       "      <td>1.229167</td>\n",
       "      <td>1.0</td>\n",
       "      <td>2.250000</td>\n",
       "      <td>1.264706</td>\n",
       "      <td>5.0</td>\n",
       "      <td>NaN</td>\n",
       "      <td>NaN</td>\n",
       "    </tr>\n",
       "    <tr>\n",
       "      <th>std</th>\n",
       "      <td>1.011414e+01</td>\n",
       "      <td>0.499920</td>\n",
       "      <td>5.694842</td>\n",
       "      <td>1.650024</td>\n",
       "      <td>0.367276</td>\n",
       "      <td>0.828236</td>\n",
       "      <td>0.0</td>\n",
       "      <td>1.437591</td>\n",
       "      <td>0.800327</td>\n",
       "      <td>NaN</td>\n",
       "      <td>NaN</td>\n",
       "      <td>NaN</td>\n",
       "    </tr>\n",
       "    <tr>\n",
       "      <th>min</th>\n",
       "      <td>1.416472e+06</td>\n",
       "      <td>1.000000</td>\n",
       "      <td>0.100000</td>\n",
       "      <td>0.000000</td>\n",
       "      <td>0.000000</td>\n",
       "      <td>1.000000</td>\n",
       "      <td>1.0</td>\n",
       "      <td>1.000000</td>\n",
       "      <td>1.000000</td>\n",
       "      <td>5.0</td>\n",
       "      <td>NaN</td>\n",
       "      <td>NaN</td>\n",
       "    </tr>\n",
       "    <tr>\n",
       "      <th>25%</th>\n",
       "      <td>1.416479e+06</td>\n",
       "      <td>1.000000</td>\n",
       "      <td>4.600000</td>\n",
       "      <td>0.000000</td>\n",
       "      <td>0.000000</td>\n",
       "      <td>1.000000</td>\n",
       "      <td>1.0</td>\n",
       "      <td>1.000000</td>\n",
       "      <td>1.000000</td>\n",
       "      <td>5.0</td>\n",
       "      <td>NaN</td>\n",
       "      <td>NaN</td>\n",
       "    </tr>\n",
       "    <tr>\n",
       "      <th>50%</th>\n",
       "      <td>1.416487e+06</td>\n",
       "      <td>1.000000</td>\n",
       "      <td>9.600000</td>\n",
       "      <td>1.000000</td>\n",
       "      <td>0.000000</td>\n",
       "      <td>1.000000</td>\n",
       "      <td>1.0</td>\n",
       "      <td>1.500000</td>\n",
       "      <td>1.000000</td>\n",
       "      <td>5.0</td>\n",
       "      <td>NaN</td>\n",
       "      <td>NaN</td>\n",
       "    </tr>\n",
       "    <tr>\n",
       "      <th>75%</th>\n",
       "      <td>1.416497e+06</td>\n",
       "      <td>2.000000</td>\n",
       "      <td>14.500000</td>\n",
       "      <td>1.000000</td>\n",
       "      <td>0.000000</td>\n",
       "      <td>1.000000</td>\n",
       "      <td>1.0</td>\n",
       "      <td>4.000000</td>\n",
       "      <td>1.000000</td>\n",
       "      <td>5.0</td>\n",
       "      <td>NaN</td>\n",
       "      <td>NaN</td>\n",
       "    </tr>\n",
       "    <tr>\n",
       "      <th>max</th>\n",
       "      <td>1.416505e+06</td>\n",
       "      <td>2.000000</td>\n",
       "      <td>19.900000</td>\n",
       "      <td>6.000000</td>\n",
       "      <td>5.000000</td>\n",
       "      <td>5.000000</td>\n",
       "      <td>1.0</td>\n",
       "      <td>4.000000</td>\n",
       "      <td>4.000000</td>\n",
       "      <td>5.0</td>\n",
       "      <td>NaN</td>\n",
       "      <td>NaN</td>\n",
       "    </tr>\n",
       "  </tbody>\n",
       "</table>\n",
       "</div>"
      ],
      "text/plain": [
       "           match_id      innings         ball  runs_off_bat       extras  \\\n",
       "count  7.795000e+03  7795.000000  7795.000000   7795.000000  7795.000000   \n",
       "mean   1.416488e+06     1.489416     9.695548      1.322001     0.075690   \n",
       "std    1.011414e+01     0.499920     5.694842      1.650024     0.367276   \n",
       "min    1.416472e+06     1.000000     0.100000      0.000000     0.000000   \n",
       "25%    1.416479e+06     1.000000     4.600000      0.000000     0.000000   \n",
       "50%    1.416487e+06     1.000000     9.600000      1.000000     0.000000   \n",
       "75%    1.416497e+06     2.000000    14.500000      1.000000     0.000000   \n",
       "max    1.416505e+06     2.000000    19.900000      6.000000     5.000000   \n",
       "\n",
       "            wides  noballs       byes     legbyes  penalty  other_wicket_type  \\\n",
       "count  288.000000     23.0  16.000000  136.000000      1.0                0.0   \n",
       "mean     1.229167      1.0   2.250000    1.264706      5.0                NaN   \n",
       "std      0.828236      0.0   1.437591    0.800327      NaN                NaN   \n",
       "min      1.000000      1.0   1.000000    1.000000      5.0                NaN   \n",
       "25%      1.000000      1.0   1.000000    1.000000      5.0                NaN   \n",
       "50%      1.000000      1.0   1.500000    1.000000      5.0                NaN   \n",
       "75%      1.000000      1.0   4.000000    1.000000      5.0                NaN   \n",
       "max      5.000000      1.0   4.000000    4.000000      5.0                NaN   \n",
       "\n",
       "       other_player_dismissed  \n",
       "count                     0.0  \n",
       "mean                      NaN  \n",
       "std                       NaN  \n",
       "min                       NaN  \n",
       "25%                       NaN  \n",
       "50%                       NaN  \n",
       "75%                       NaN  \n",
       "max                       NaN  "
      ]
     },
     "execution_count": 5,
     "metadata": {},
     "output_type": "execute_result"
    }
   ],
   "source": [
    "df.describe()"
   ]
  },
  {
   "cell_type": "code",
   "execution_count": 6,
   "id": "21a54338-e3e4-455b-9881-ec242e474e1e",
   "metadata": {},
   "outputs": [
    {
     "data": {
      "text/plain": [
       "match_id                     0\n",
       "season                       0\n",
       "start_date                   0\n",
       "venue                        0\n",
       "innings                      0\n",
       "ball                         0\n",
       "batting_team                 0\n",
       "bowling_team                 0\n",
       "striker                      0\n",
       "non_striker                  0\n",
       "bowler                       0\n",
       "runs_off_bat                 0\n",
       "extras                       0\n",
       "wides                     7507\n",
       "noballs                   7772\n",
       "byes                      7779\n",
       "legbyes                   7659\n",
       "penalty                   7794\n",
       "wicket_type               7392\n",
       "player_dismissed          7392\n",
       "other_wicket_type         7795\n",
       "other_player_dismissed    7795\n",
       "dtype: int64"
      ]
     },
     "execution_count": 6,
     "metadata": {},
     "output_type": "execute_result"
    }
   ],
   "source": [
    "#Run this to see how many missing (NaN) values are in each column\n",
    "df.isnull().sum()"
   ]
  },
  {
   "cell_type": "code",
   "execution_count": 7,
   "id": "a4caa62d-5606-4b11-9925-c8d222c99b25",
   "metadata": {},
   "outputs": [],
   "source": [
    "df['wides'] = df['wides'].fillna(0)\n",
    "df['noballs'] = df['noballs'].fillna(0)\n",
    "df['byes'] = df['byes'].fillna(0)\n",
    "df['legbyes'] = df['legbyes'].fillna(0)\n",
    "df['penalty'] = df['penalty'].fillna(0)"
   ]
  },
  {
   "cell_type": "code",
   "execution_count": 8,
   "id": "f0993ec0-7fa2-4697-ba6c-c6afd2f8f32c",
   "metadata": {},
   "outputs": [],
   "source": [
    "df['wicket_type'] = df['wicket_type'].fillna('None')\n",
    "df['player_dismissed'] = df['player_dismissed'].fillna('None')\n",
    "df['other_wicket_type'] = df['other_wicket_type'].fillna('None')\n",
    "df['other_player_dismissed'] = df['other_player_dismissed'].fillna('None')"
   ]
  },
  {
   "cell_type": "code",
   "execution_count": 9,
   "id": "bcf988ac-9bbc-4b4c-a6b2-1eafacd7d686",
   "metadata": {},
   "outputs": [
    {
     "data": {
      "text/plain": [
       "match_id                  0\n",
       "season                    0\n",
       "start_date                0\n",
       "venue                     0\n",
       "innings                   0\n",
       "ball                      0\n",
       "batting_team              0\n",
       "bowling_team              0\n",
       "striker                   0\n",
       "non_striker               0\n",
       "bowler                    0\n",
       "runs_off_bat              0\n",
       "extras                    0\n",
       "wides                     0\n",
       "noballs                   0\n",
       "byes                      0\n",
       "legbyes                   0\n",
       "penalty                   0\n",
       "wicket_type               0\n",
       "player_dismissed          0\n",
       "other_wicket_type         0\n",
       "other_player_dismissed    0\n",
       "dtype: int64"
      ]
     },
     "execution_count": 9,
     "metadata": {},
     "output_type": "execute_result"
    }
   ],
   "source": [
    "df.isnull().sum()"
   ]
  },
  {
   "cell_type": "code",
   "execution_count": 10,
   "id": "eae05eb0-300f-4d80-aff1-f3ac4fc80a30",
   "metadata": {},
   "outputs": [
    {
     "data": {
      "text/plain": [
       "striker\n",
       "Babar Azam           569\n",
       "Usman Khan           430\n",
       "Mohammad Rizwan      407\n",
       "HE van der Dussen    364\n",
       "Saim Ayub            345\n",
       "C Munro              326\n",
       "Saud Shakeel         323\n",
       "Agha Salman          310\n",
       "Shadab Khan          305\n",
       "RR Hendricks         304\n",
       "Name: runs_off_bat, dtype: int64"
      ]
     },
     "execution_count": 10,
     "metadata": {},
     "output_type": "execute_result"
    }
   ],
   "source": [
    "df.groupby('striker')['runs_off_bat'].sum().sort_values(ascending=False).head(10)"
   ]
  },
  {
   "cell_type": "code",
   "execution_count": 11,
   "id": "083b1330-9c80-4372-99cf-aee4d7b5c80f",
   "metadata": {},
   "outputs": [
    {
     "data": {
      "text/plain": [
       "bowler\n",
       "Usama Mir              24\n",
       "Mohammad Ali           21\n",
       "DJ Willey              17\n",
       "AJ Hosein              16\n",
       "Abrar Ahmed            16\n",
       "Naseem Shah            16\n",
       "Shaheen Shah Afridi    15\n",
       "Imad Wasim             15\n",
       "Hasan Ali              15\n",
       "Abbas Afridi           14\n",
       "dtype: int64"
      ]
     },
     "execution_count": 11,
     "metadata": {},
     "output_type": "execute_result"
    }
   ],
   "source": [
    "df[df['player_dismissed'] != 'None'].groupby('bowler').size().sort_values(ascending=False).head(10)\n"
   ]
  },
  {
   "cell_type": "code",
   "execution_count": 12,
   "id": "f2eeacf6-6289-477d-97c2-6ad90eb35285",
   "metadata": {},
   "outputs": [
    {
     "data": {
      "text/plain": [
       "wicket_type\n",
       "None                 7392\n",
       "caught                244\n",
       "bowled                 84\n",
       "run out                27\n",
       "lbw                    27\n",
       "caught and bowled      14\n",
       "stumped                 7\n",
       "Name: count, dtype: int64"
      ]
     },
     "execution_count": 12,
     "metadata": {},
     "output_type": "execute_result"
    }
   ],
   "source": [
    "df['wicket_type'].value_counts()"
   ]
  },
  {
   "cell_type": "code",
   "execution_count": 13,
   "id": "8f99bf14-b8c0-4247-bc96-b350f567d77b",
   "metadata": {},
   "outputs": [
    {
     "data": {
      "text/plain": [
       "striker\n",
       "Saim Ayub            21\n",
       "Iftikhar Ahmed       17\n",
       "HE van der Dussen    16\n",
       "Mohammad Rizwan      15\n",
       "Shadab Khan          15\n",
       "Saud Shakeel         15\n",
       "KA Pollard           15\n",
       "Azam Khan            14\n",
       "Agha Salman          12\n",
       "Babar Azam           12\n",
       "Name: count, dtype: int64"
      ]
     },
     "execution_count": 13,
     "metadata": {},
     "output_type": "execute_result"
    }
   ],
   "source": [
    "df[df['runs_off_bat'] == 6]['striker'].value_counts().head(10)"
   ]
  },
  {
   "cell_type": "code",
   "execution_count": 14,
   "id": "2aa8db36-3d60-40f1-b8c0-e56550ed18d6",
   "metadata": {},
   "outputs": [
    {
     "data": {
      "text/plain": [
       "striker\n",
       "Babar Azam          63\n",
       "Usman Khan          52\n",
       "C Munro             36\n",
       "JM Vince            34\n",
       "RR Hendricks        34\n",
       "Mohammad Rizwan     33\n",
       "JJ Roy              31\n",
       "Saud Shakeel        31\n",
       "Sahibzada Farhan    29\n",
       "Saim Ayub           27\n",
       "Name: count, dtype: int64"
      ]
     },
     "execution_count": 14,
     "metadata": {},
     "output_type": "execute_result"
    }
   ],
   "source": [
    "df[df['runs_off_bat'] == 4]['striker'].value_counts().head(10)"
   ]
  },
  {
   "cell_type": "code",
   "execution_count": 15,
   "id": "6a6de770-51a7-4f56-9b1a-71e2e1e2326c",
   "metadata": {},
   "outputs": [],
   "source": [
    "import seaborn as sns\n",
    "import matplotlib.pyplot as plt"
   ]
  },
  {
   "cell_type": "code",
   "execution_count": 19,
   "id": "064dcd96-e9e9-4d32-88f3-8760f9ba85f5",
   "metadata": {},
   "outputs": [
    {
     "data": {
      "image/png": "[encoded data removed]",
      "text/plain": [
       "<Figure size 800x500 with 1 Axes>"
      ]
     },
     "metadata": {},
     "output_type": "display_data"
    }
   ],
   "source": [
    "# Top 10 batters by runs\n",
    "top_batters = df.groupby('striker')['runs_off_bat'].sum().sort_values(ascending=False).head(10)\n",
    "\n",
    "plt.figure(figsize=(8, 5))  # adjust size as needed\n",
    "sns.barplot(x=top_batters.index, y=top_batters.values,hue=top_batters.index, palette='Greens', legend=False)\n",
    "\n",
    "plt.title(\"Top 10 Run Scorers in PSL Season 9\")\n",
    "font1 = {'family': 'serif', 'color': 'blue', 'size': 20}\n",
    "plt.xlabel(\"PLAYERS\")\n",
    "plt.ylabel(\"TOTAL RUNS\")\n",
    "plt.xticks(rotation=45)\n",
    "plt.tight_layout()\n",
    "plt.show()"
   ]
  },
  {
   "cell_type": "code",
   "execution_count": 20,
   "id": "41635b0e-68bd-45d1-89d9-ff7f5607e25f",
   "metadata": {},
   "outputs": [
    {
     "data": {
      "image/png": "[encoded data removed]",
      "text/plain": [
       "<Figure size 800x500 with 1 Axes>"
      ]
     },
     "metadata": {},
     "output_type": "display_data"
    }
   ],
   "source": [
    "# Top 10 batters by runs\n",
    "b=df[df['player_dismissed'] != 'None'].groupby('bowler').size().sort_values(ascending=False).head(10)\n",
    "\n",
    "plt.figure(figsize=(8, 5))  # adjust size as needed\n",
    "sns.barplot(x=b.index, y=b.values,hue=b.index, palette='Greens', legend=False)\n",
    "\n",
    "plt.title(\"Top 10 Bowlers in PSL Season 9\")\n",
    "font1 = {'family': 'serif', 'color': 'blue', 'size': 20}\n",
    "plt.xlabel(\"PLAYERS\")\n",
    "plt.ylabel(\"TOTAL WICkETS\")\n",
    "plt.xticks(rotation=45)\n",
    "plt.tight_layout()\n",
    "plt.show()\n",
    "\n"
   ]
  },
  {
   "cell_type": "code",
   "execution_count": 25,
   "id": "f244ffaa-aac5-4cf8-b220-504408a6207a",
   "metadata": {},
   "outputs": [
    {
     "data": {
      "image/png": "[encoded data removed]",
      "text/plain": [
       "<Figure size 1200x200 with 2 Axes>"
      ]
     },
     "metadata": {},
     "output_type": "display_data"
    }
   ],
   "source": [
    "# Count wicket types\n",
    "wickets = df['wicket_type'].value_counts()\n",
    "\n",
    "# Plot heatmap\n",
    "plt.figure(figsize=(12, 2))\n",
    "sns.heatmap(wickets_df, annot=True, fmt='d', cmap='Greens')\n",
    "\n",
    "plt.title('Wicket Types Counts - Heatmap')\n",
    "plt.xlabel('Wicket Type')\n",
    "plt.yticks([])  # hides y-axis because there's only one row\n",
    "plt.show()\n"
   ]
  },
  {
   "cell_type": "code",
   "execution_count": null,
   "id": "bf3d4633-44a6-40ad-be33-6ce1f808ca28",
   "metadata": {},
   "outputs": [],
   "source": []
  }
 ],
 "metadata": {
  "kernelspec": {
   "display_name": "Python 3 (ipykernel)",
   "language": "python",
   "name": "python3"
  },
  "language_info": {
   "codemirror_mode": {
    "name": "ipython",
    "version": 3
   },
   "file_extension": ".py",
   "mimetype": "text/x-python",
   "name": "python",
   "nbconvert_exporter": "python",
   "pygments_lexer": "ipython3",
   "version": "3.12.7"
  }
 },
 "nbformat": 4,
 "nbformat_minor": 5
}
